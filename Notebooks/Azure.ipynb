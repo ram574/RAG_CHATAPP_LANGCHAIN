{
 "cells": [
  {
   "cell_type": "code",
   "execution_count": 1,
   "id": "a64a238b",
   "metadata": {},
   "outputs": [
    {
     "name": "stdout",
     "output_type": "stream",
     "text": [
      "Loaded 221 pages from merged file.\n",
      "Splitted the merged document into 779 sub-documents.\n",
      "Northwind Standard plan.  \n",
      "Exceptions \n",
      "It is important to note that while Northwind Standard covers a variety of services, there are \n",
      "some exceptions. These include emergency services, mental health and substance abuse \n",
      "coverage, and out-of-network services. If you need any of these services, be sure to contact \n",
      "Northwind Health to verify coverage.  \n",
      "We hope that this information has been helpful in understanding the plan and your rights \n",
      "and responsibilities as a member of Northwind Standard. For more information, contact \n",
      "Northwind Health or visit our website.\n"
     ]
    }
   ],
   "source": [
    "# 1. Merge PDFs (already in your notebook)\n",
    "from PyPDF2 import PdfMerger\n",
    "from langchain_text_splitters import RecursiveCharacterTextSplitter\n",
    "from langchain_community.document_loaders import PyPDFLoader\n",
    "from langchain_openai import AzureOpenAIEmbeddings\n",
    "from langchain.vectorstores import FAISS\n",
    "import os\n",
    "\n",
    "pdf_folder = \"/home/tulasiram/ubuntu_server/RAG_ChatApp_LangChain/Input_Data/health-plan\"\n",
    "output_pdf_path = \"/home/tulasiram/ubuntu_server/RAG_ChatApp_LangChain/Output_Data/merged_output.pdf\"\n",
    "\n",
    "pdf_files = [os.path.join(pdf_folder, f) for f in os.listdir(pdf_folder) if f.endswith(\".pdf\")]\n",
    "merger = PdfMerger()\n",
    "for pdf in pdf_files:\n",
    "    merger.append(pdf)\n",
    "merger.write(output_pdf_path)\n",
    "merger.close()\n",
    "\n",
    "# 2. Load merged PDF\n",
    "loader = PyPDFLoader(output_pdf_path)\n",
    "documents = loader.load()\n",
    "print(f\"Loaded {len(documents)} pages from merged file.\")\n",
    "\n",
    "# 3. Split into chunks\n",
    "text_splitter = RecursiveCharacterTextSplitter(\n",
    "    chunk_size=850,\n",
    "    chunk_overlap=100,\n",
    "    add_start_index=True,\n",
    ")\n",
    "all_splits = text_splitter.split_documents(documents)\n",
    "print(f\"Splitted the merged document into {len(all_splits)} sub-documents.\")\n",
    "\n",
    "# 4. Embed and store with Azure OpenAI\n",
    "embedding_model = AzureOpenAIEmbeddings(\n",
    "    azure_endpoint=\"https://25996-openai.openai.azure.com/openai/deployments/text-embedding-ada-002/embeddings?api-version=2023-05-15\",\n",
    "    api_key=\"3b578c1bce87445fad51ca5b03212249\",\n",
    "    api_version=\"2023-05-15\",\n",
    "    deployment=\"text-embedding-ada-002\",\n",
    "    model=\"text-embedding-ada-002\",\n",
    ")\n",
    "\n",
    "vectorstore = FAISS.from_documents(all_splits, embedding_model)\n",
    "vectorstore.save_local(\"vector_index\")\n",
    "\n",
    "# 5. Query the vector store\n",
    "query = \"What are the services covered in Northwind Standard plan?\"\n",
    "docs = vectorstore.similarity_search(query)\n",
    "print(docs[0].page_content)"
   ]
  },
  {
   "cell_type": "code",
   "execution_count": 2,
   "id": "1305ae28",
   "metadata": {},
   "outputs": [],
   "source": [
    "import getpass\n",
    "import os\n",
    "from langchain_openai import AzureChatOpenAI\n",
    "\n",
    "llm = AzureChatOpenAI(\n",
    "    azure_endpoint=\"https://25996-gpt-4o-mini.openai.azure.com/\",\n",
    "    api_key=\"770082685af343f59fd16883fa006c48\",\n",
    "    deployment_name=\"gpt-4o-mini\",\n",
    "    api_version=\"2025-01-01-preview\",\n",
    ")"
   ]
  },
  {
   "cell_type": "code",
   "execution_count": 3,
   "id": "71099d32",
   "metadata": {},
   "outputs": [
    {
     "name": "stdout",
     "output_type": "stream",
     "text": [
      "You are an assistant for question-answering tasks. Use the following pieces of retrieved context to answer the question. If you don't know the answer, just say that you don't know. Use three sentences maximum and keep the answer concise.\n",
      "Question: (question goes here) \n",
      "Context: (context goes here) \n",
      "Answer:\n"
     ]
    }
   ],
   "source": [
    "from langchain import hub\n",
    "\n",
    "prompt = hub.pull(\"rlm/rag-prompt\")\n",
    "\n",
    "example_messages = prompt.invoke(\n",
    "    {\"context\": \"(context goes here)\", \"question\": \"(question goes here)\"}\n",
    ").to_messages()\n",
    "\n",
    "assert len(example_messages) == 1\n",
    "print(example_messages[0].content)"
   ]
  },
  {
   "cell_type": "code",
   "execution_count": 4,
   "id": "3a90b8b7",
   "metadata": {},
   "outputs": [],
   "source": [
    "from langchain_core.documents import Document\n",
    "from typing_extensions import List, TypedDict\n",
    "\n",
    "\n",
    "class State(TypedDict):\n",
    "    question: str\n",
    "    context: List[Document]\n",
    "    answer: str"
   ]
  },
  {
   "cell_type": "code",
   "execution_count": 5,
   "id": "7c94793f",
   "metadata": {},
   "outputs": [],
   "source": [
    "def retrieve(state: State):\n",
    "    retrieved_docs = vectorstore.similarity_search(state[\"question\"])\n",
    "    return {\"context\": retrieved_docs}\n",
    "\n",
    "\n",
    "def generate(state: State):\n",
    "    docs_content = \"\\n\\n\".join(doc.page_content for doc in state[\"context\"])\n",
    "    messages = prompt.invoke({\"question\": state[\"question\"], \"context\": docs_content})\n",
    "    response = llm.invoke(messages)\n",
    "    return {\"answer\": response.content}"
   ]
  },
  {
   "cell_type": "code",
   "execution_count": 6,
   "id": "fb0ed710",
   "metadata": {},
   "outputs": [],
   "source": [
    "from langgraph.graph import START, StateGraph\n",
    "\n",
    "graph_builder = StateGraph(State).add_sequence([retrieve, generate])\n",
    "graph_builder.add_edge(START, \"retrieve\")\n",
    "graph = graph_builder.compile()"
   ]
  },
  {
   "cell_type": "code",
   "execution_count": 7,
   "id": "7887b05d",
   "metadata": {},
   "outputs": [
    {
     "data": {
      "image/png": "[encoded data removed]",
      "text/plain": [
       "<IPython.core.display.Image object>"
      ]
     },
     "metadata": {},
     "output_type": "display_data"
    }
   ],
   "source": [
    "from IPython.display import Image, display\n",
    "\n",
    "display(Image(graph.get_graph().draw_mermaid_png()))"
   ]
  },
  {
   "cell_type": "code",
   "execution_count": 8,
   "id": "51a5f56b",
   "metadata": {},
   "outputs": [
    {
     "name": "stdout",
     "output_type": "stream",
     "text": [
      "Context: [Document(id='78c9bc84-4058-433f-a5ba-36f73b85ec74', metadata={'producer': 'PyPDF2', 'creator': 'PyPDF', 'creationdate': '', 'source': '/home/tulasiram/ubuntu_server/RAG_ChatApp_LangChain/Output_Data/merged_output.pdf', 'total_pages': 221, 'page': 2, 'page_label': '3', 'start_index': 1487}, page_content=\"These lessons provide employees with the opportunity to try new things, challenge themselves, and \\nimprove their physical skills. They are also a great way to relieve stress and have fun while staying active. \\nWith PerksPlus, employees can choose from a variety of fitness programs to suit their individual needs \\nand preferences. Whether you're looking to improve your physical fitness, reduce stress, or just have \\nsome fun, PerksPlus has you covered. \\nWhat is Not Covered? \\nIn addition to the wide range of activities covered by PerksPlus, there is also a list of things that are not \\ncovered under the program. These include but are not limited to: \\n• Non-fitness related expenses \\n• Medical treatments and procedures \\n• Travel expenses (unless related to a fitness program)\"), Document(id='1a7606c3-1a8b-4d01-b642-0c328edbeb2f', metadata={'producer': 'PyPDF2', 'creator': 'PyPDF', 'creationdate': '', 'source': '/home/tulasiram/ubuntu_server/RAG_ChatApp_LangChain/Output_Data/merged_output.pdf', 'total_pages': 221, 'page': 2, 'page_label': '3', 'start_index': 784}, page_content='• Gym memberships \\n• Personal training sessions \\n• Yoga and Pilates classes \\n• Fitness equipment purchases \\n• Sports team fees \\n• Health retreats and spas \\n• Outdoor adventure activities (such as rock climbing, hiking, and kayaking) \\n• Group fitness classes (such as dance, martial arts, and cycling) \\n• Virtual fitness programs (such as online yoga and workout classes) \\nIn addition to the wide range of fitness activities covered by PerksPlus, the program also covers a variety \\nof lessons and experiences that promote health and wellness. Some of the lessons covered under \\nPerksPlus include: \\n• Skiing and snowboarding lessons \\n• Scuba diving lessons \\n• Surfing lessons \\n• Horseback riding lessons \\nThese lessons provide employees with the opportunity to try new things, challenge themselves, and'), Document(id='c791a2f1-686f-494f-969a-c4a8eece5bcb', metadata={'producer': 'PyPDF2', 'creator': 'PyPDF', 'creationdate': '', 'source': '/home/tulasiram/ubuntu_server/RAG_ChatApp_LangChain/Output_Data/merged_output.pdf', 'total_pages': 221, 'page': 2, 'page_label': '3', 'start_index': 0}, page_content=\"Overview \\nIntroducing PerksPlus - the ultimate benefits program designed to support the health and wellness of \\nemployees. With PerksPlus, employees have the opportunity to expense up to $1000 for fitness-related \\nprograms, making it easier and more affordable to maintain a healthy lifestyle. PerksPlus is not only \\ndesigned to support employees' physical health, but also their mental health. Regular exercise has been \\nshown to reduce stress, improve mood, and enhance overall well-being. With PerksPlus, employees can \\ninvest in their health and wellness, while enjoying the peace of mind that comes with knowing they are \\ngetting the support they need to lead a healthy life. \\nWhat is Covered? \\nPerksPlus covers a wide range of fitness activities, including but not limited to: \\n• Gym memberships \\n• Personal training sessions\"), Document(id='69a8194d-5b42-4639-be81-92eda15030d3', metadata={'producer': 'PyPDF2', 'creator': 'PyPDF', 'creationdate': '', 'source': '/home/tulasiram/ubuntu_server/RAG_ChatApp_LangChain/Output_Data/merged_output.pdf', 'total_pages': 221, 'page': 0, 'page_label': '1', 'start_index': 0}, page_content='PerksPlus Health and Wellness \\nReimbursement Program for \\nContoso Electronics Employees')]\n",
      "\n",
      "\n",
      "Answer: PerksPlus covers a variety of fitness activities, including gym memberships, personal training sessions, and lessons for skiing, snowboarding, scuba diving, surfing, and horseback riding. The program is designed to support both the physical and mental health of employees by providing opportunities for fitness and wellness. Employees can expense up to $1000 for these fitness-related programs.\n"
     ]
    }
   ],
   "source": [
    "result = graph.invoke({\"question\": \"What are the fitness activities covered in the perk plus?\"})\n",
    "\n",
    "print(f\"Context: {result['context']}\\n\\n\")\n",
    "print(f\"Answer: {result['answer']}\")"
   ]
  },
  {
   "cell_type": "code",
   "execution_count": 9,
   "id": "12ae3b45",
   "metadata": {},
   "outputs": [
    {
     "name": "stdout",
     "output_type": "stream",
     "text": [
      "{'retrieve': {'context': [Document(id='78c9bc84-4058-433f-a5ba-36f73b85ec74', metadata={'producer': 'PyPDF2', 'creator': 'PyPDF', 'creationdate': '', 'source': '/home/tulasiram/ubuntu_server/RAG_ChatApp_LangChain/Output_Data/merged_output.pdf', 'total_pages': 221, 'page': 2, 'page_label': '3', 'start_index': 1487}, page_content=\"These lessons provide employees with the opportunity to try new things, challenge themselves, and \\nimprove their physical skills. They are also a great way to relieve stress and have fun while staying active. \\nWith PerksPlus, employees can choose from a variety of fitness programs to suit their individual needs \\nand preferences. Whether you're looking to improve your physical fitness, reduce stress, or just have \\nsome fun, PerksPlus has you covered. \\nWhat is Not Covered? \\nIn addition to the wide range of activities covered by PerksPlus, there is also a list of things that are not \\ncovered under the program. These include but are not limited to: \\n• Non-fitness related expenses \\n• Medical treatments and procedures \\n• Travel expenses (unless related to a fitness program)\"), Document(id='1a7606c3-1a8b-4d01-b642-0c328edbeb2f', metadata={'producer': 'PyPDF2', 'creator': 'PyPDF', 'creationdate': '', 'source': '/home/tulasiram/ubuntu_server/RAG_ChatApp_LangChain/Output_Data/merged_output.pdf', 'total_pages': 221, 'page': 2, 'page_label': '3', 'start_index': 784}, page_content='• Gym memberships \\n• Personal training sessions \\n• Yoga and Pilates classes \\n• Fitness equipment purchases \\n• Sports team fees \\n• Health retreats and spas \\n• Outdoor adventure activities (such as rock climbing, hiking, and kayaking) \\n• Group fitness classes (such as dance, martial arts, and cycling) \\n• Virtual fitness programs (such as online yoga and workout classes) \\nIn addition to the wide range of fitness activities covered by PerksPlus, the program also covers a variety \\nof lessons and experiences that promote health and wellness. Some of the lessons covered under \\nPerksPlus include: \\n• Skiing and snowboarding lessons \\n• Scuba diving lessons \\n• Surfing lessons \\n• Horseback riding lessons \\nThese lessons provide employees with the opportunity to try new things, challenge themselves, and'), Document(id='c791a2f1-686f-494f-969a-c4a8eece5bcb', metadata={'producer': 'PyPDF2', 'creator': 'PyPDF', 'creationdate': '', 'source': '/home/tulasiram/ubuntu_server/RAG_ChatApp_LangChain/Output_Data/merged_output.pdf', 'total_pages': 221, 'page': 2, 'page_label': '3', 'start_index': 0}, page_content=\"Overview \\nIntroducing PerksPlus - the ultimate benefits program designed to support the health and wellness of \\nemployees. With PerksPlus, employees have the opportunity to expense up to $1000 for fitness-related \\nprograms, making it easier and more affordable to maintain a healthy lifestyle. PerksPlus is not only \\ndesigned to support employees' physical health, but also their mental health. Regular exercise has been \\nshown to reduce stress, improve mood, and enhance overall well-being. With PerksPlus, employees can \\ninvest in their health and wellness, while enjoying the peace of mind that comes with knowing they are \\ngetting the support they need to lead a healthy life. \\nWhat is Covered? \\nPerksPlus covers a wide range of fitness activities, including but not limited to: \\n• Gym memberships \\n• Personal training sessions\"), Document(id='69a8194d-5b42-4639-be81-92eda15030d3', metadata={'producer': 'PyPDF2', 'creator': 'PyPDF', 'creationdate': '', 'source': '/home/tulasiram/ubuntu_server/RAG_ChatApp_LangChain/Output_Data/merged_output.pdf', 'total_pages': 221, 'page': 0, 'page_label': '1', 'start_index': 0}, page_content='PerksPlus Health and Wellness \\nReimbursement Program for \\nContoso Electronics Employees')]}}\n",
      "\n",
      "----------------\n",
      "\n",
      "{'generate': {'answer': \"PerksPlus covers a variety of fitness activities including gym memberships, personal training sessions, and lessons for skiing, snowboarding, scuba diving, surfing, and horseback riding. These activities aim to support employees' physical health and wellness. However, non-fitness related expenses and certain other activities are not covered.\"}}\n",
      "\n",
      "----------------\n",
      "\n"
     ]
    }
   ],
   "source": [
    "for step in graph.stream(\n",
    "    {\"question\": \"What are the fitness activities covered in the perk plus?\"}, stream_mode=\"updates\"\n",
    "):\n",
    "    print(f\"{step}\\n\\n----------------\\n\")"
   ]
  },
  {
   "cell_type": "code",
   "execution_count": 10,
   "id": "fa3ca95f",
   "metadata": {},
   "outputs": [],
   "source": [
    "from langchain_core.prompts import PromptTemplate\n",
    "\n",
    "template = \"\"\"Use the following pieces of context to answer the question at the end.\n",
    "If you don't know the answer, just say that you don't know, don't try to make up an answer.\n",
    "Use three sentences maximum and keep the answer as concise as possible.\n",
    "Always say \"thanks for asking!\" at the end of the answer.\n",
    "\n",
    "{context}\n",
    "\n",
    "Question: {question}\n",
    "\n",
    "Helpful Answer:\"\"\"\n",
    "custom_rag_prompt = PromptTemplate.from_template(template)"
   ]
  },
  {
   "cell_type": "code",
   "execution_count": 11,
   "id": "9820a676",
   "metadata": {},
   "outputs": [
    {
     "data": {
      "text/plain": [
       "{'producer': 'PyPDF2',\n",
       " 'creator': 'PyPDF',\n",
       " 'creationdate': '',\n",
       " 'source': '/home/tulasiram/ubuntu_server/RAG_ChatApp_LangChain/Output_Data/merged_output.pdf',\n",
       " 'total_pages': 221,\n",
       " 'page': 2,\n",
       " 'page_label': '3',\n",
       " 'start_index': 0,\n",
       " 'section': 'beginning'}"
      ]
     },
     "execution_count": 11,
     "metadata": {},
     "output_type": "execute_result"
    }
   ],
   "source": [
    "total_documents = len(all_splits)\n",
    "third = total_documents // 3\n",
    "\n",
    "for i, document in enumerate(all_splits):\n",
    "    if i < third:\n",
    "        document.metadata[\"section\"] = \"beginning\"\n",
    "    elif i < 2 * third:\n",
    "        document.metadata[\"section\"] = \"middle\"\n",
    "    else:\n",
    "        document.metadata[\"section\"] = \"end\"\n",
    "\n",
    "\n",
    "all_splits[2].metadata"
   ]
  },
  {
   "cell_type": "code",
   "execution_count": 12,
   "id": "770ac4d7",
   "metadata": {},
   "outputs": [],
   "source": [
    "from langchain_core.vectorstores import InMemoryVectorStore\n",
    "\n",
    "vectorstore = InMemoryVectorStore(embedding_model)\n",
    "_ = vectorstore.add_documents(all_splits)"
   ]
  },
  {
   "cell_type": "code",
   "execution_count": 13,
   "id": "dbb329da",
   "metadata": {},
   "outputs": [],
   "source": [
    "from typing import Literal\n",
    "\n",
    "from typing_extensions import Annotated\n",
    "\n",
    "class Search(TypedDict):\n",
    "    \"\"\"Search query.\"\"\"\n",
    "\n",
    "    query: Annotated[str, ..., \"Search query to run.\"]\n",
    "    section: Annotated[\n",
    "        Literal[\"beginning\", \"middle\", \"end\"],\n",
    "        ...,\n",
    "        \"Section to query.\",\n",
    "    ]"
   ]
  },
  {
   "cell_type": "code",
   "execution_count": 14,
   "id": "9058d901",
   "metadata": {},
   "outputs": [],
   "source": [
    "class State(TypedDict):\n",
    "    question: str\n",
    "    query: Search\n",
    "    context: List[Document]\n",
    "    answer: str\n",
    "\n",
    "\n",
    "def analyze_query(state: State):\n",
    "    structured_llm = llm.with_structured_output(Search)\n",
    "    query = structured_llm.invoke(state[\"question\"])\n",
    "    return {\"query\": query}\n",
    "\n",
    "\n",
    "def retrieve(state: State):\n",
    "    query = state[\"query\"]\n",
    "    retrieved_docs = vectorstore.similarity_search(\n",
    "        query[\"query\"],\n",
    "        filter=lambda doc: doc.metadata.get(\"section\") == query[\"section\"],\n",
    "    )\n",
    "    return {\"context\": retrieved_docs}\n",
    "\n",
    "\n",
    "def generate(state: State):\n",
    "    docs_content = \"\\n\\n\".join(doc.page_content for doc in state[\"context\"])\n",
    "    messages = prompt.invoke({\"question\": state[\"question\"], \"context\": docs_content})\n",
    "    response = llm.invoke(messages)\n",
    "    return {\"answer\": response.content}\n",
    "\n",
    "\n",
    "graph_builder = StateGraph(State).add_sequence([analyze_query, retrieve, generate])\n",
    "graph_builder.add_edge(START, \"analyze_query\")\n",
    "graph = graph_builder.compile()"
   ]
  },
  {
   "cell_type": "code",
   "execution_count": null,
   "id": "7a0b64f1",
   "metadata": {},
   "outputs": [],
   "source": [
    "from langgraph.graph import END\n",
    "from langgraph.prebuilt import ToolNode, tools_condition\n",
    "\n",
    "graph_builder.add_node(query_or_respond)\n",
    "graph_builder.add_node(tools)\n",
    "graph_builder.add_node(generate)\n",
    "\n",
    "graph_builder.set_entry_point(\"query_or_respond\")\n",
    "graph_builder.add_conditional_edges(\n",
    "    \"query_or_respond\",\n",
    "    tools_condition,\n",
    "    {END: END, \"tools\": \"tools\"},\n",
    ")\n",
    "graph_builder.add_edge(\"tools\", \"generate\")\n",
    "graph_builder.add_edge(\"generate\", END)\n",
    "\n",
    "graph = graph_builder.compile()"
   ]
  },
  {
   "cell_type": "code",
   "execution_count": 15,
   "id": "191f2dba",
   "metadata": {},
   "outputs": [
    {
     "data": {
      "image/png": "[encoded data removed]",
      "text/plain": [
       "<IPython.core.display.Image object>"
      ]
     },
     "metadata": {},
     "output_type": "display_data"
    }
   ],
   "source": [
    "display(Image(graph.get_graph().draw_mermaid_png()))"
   ]
  },
  {
   "cell_type": "code",
   "execution_count": 16,
   "id": "0f3bcfae",
   "metadata": {},
   "outputs": [
    {
     "name": "stdout",
     "output_type": "stream",
     "text": [
      "{'analyze_query': {'query': {'query': 'Northwind Standard plan covered services', 'section': 'beginning'}}}\n",
      "\n",
      "----------------\n",
      "\n",
      "{'retrieve': {'context': [Document(id='8c8453b7-f424-4b04-b8bf-39d68356dd3e', metadata={'producer': 'PyPDF2', 'creator': 'PyPDF', 'creationdate': '', 'source': '/home/tulasiram/ubuntu_server/RAG_ChatApp_LangChain/Output_Data/merged_output.pdf', 'total_pages': 221, 'page': 48, 'page_label': '49', 'start_index': 0, 'section': 'beginning'}, page_content='By following these tips, you can make sure that you are taking advantage of all the benefits \\nof the Northwind Standard plan. With the right plan in place, you can be sure that you are \\ngetting the best coverage for your medical, dental, vision, and prescription drug needs. \\nPreventive Care \\nCOVERED SERVICES: Preventive Care \\nAt Northwind Health, preventive care services are covered under the Northwind Standard \\nplan. Preventive care services are a great way to stay on top of your health, and they are \\navailable at no additional cost when you are a part of Northwind Standard.  \\nPreventive care services include the following: \\n• Physicals and vaccinations \\n• Health screenings and tests, such as blood pressure, cholesterol and diabetes tests \\n• Counseling, such as lifestyle and nutrition counseling  \\n• Immunizations'), Document(id='e9ad0e3f-d932-469a-bf38-c67f20f4417e', metadata={'producer': 'PyPDF2', 'creator': 'PyPDF', 'creationdate': '', 'source': '/home/tulasiram/ubuntu_server/RAG_ChatApp_LangChain/Output_Data/merged_output.pdf', 'total_pages': 221, 'page': 6, 'page_label': '7', 'start_index': 0, 'section': 'beginning'}, page_content='Summary of Benefits \\nNorthwind Standard \\nNorthwind Standard is a basic plan that provides coverage for medical, vision, and dental \\nservices. This plan also offers coverage for preventive care services, as well as prescription \\ndrug coverage. With Northwind Standard, you can choose from a variety of in-network \\nproviders, including primary care physicians, specialists, hospitals, and pharmacies. This \\nplan does not offer coverage for emergency services, mental health and substance abuse \\ncoverage, or out-of-network services. \\nSUMMARY OF YOUR COSTS \\nSummary of Your Costs \\nWhen you choose Northwind Standard as your health plan, you can rest assured that you \\nare getting comprehensive coverage at an affordable cost. Here, we will explain the various \\ncosts associated with this plan so that you know what to expect when it comes to your out-'), Document(id='6448ad38-9a67-4d1e-8cc0-81f70c859a31', metadata={'producer': 'PyPDF2', 'creator': 'PyPDF', 'creationdate': '', 'source': '/home/tulasiram/ubuntu_server/RAG_ChatApp_LangChain/Output_Data/merged_output.pdf', 'total_pages': 221, 'page': 7, 'page_label': '8', 'start_index': 1471, 'section': 'beginning'}, page_content='Northwind Standard offers a wide variety of in-network providers, ranging from primary \\ncare physicians, specialists, hospitals, and pharmacies. This allows you to choose a provider \\nthat is convenient for you and your family, while also helping you to keep your costs low.  \\nWhen you choose a provider that is in-network with your plan, you will typically pay lower \\ncopays and deductibles than you would with an out-of-network provider. In addition, many \\nservices, such as preventive care, may be covered at no cost when you receive care from an \\nin-network provider.  \\nIt is important to note, however, that Northwind Standard does not offer coverage for \\nemergency services, mental health and substance abuse coverage, or out-of-network'), Document(id='fd462b47-5ac7-4b44-93ad-dd59d880d955', metadata={'producer': 'PyPDF2', 'creator': 'PyPDF', 'creationdate': '', 'source': '/home/tulasiram/ubuntu_server/RAG_ChatApp_LangChain/Output_Data/merged_output.pdf', 'total_pages': 221, 'page': 49, 'page_label': '50', 'start_index': 763, 'section': 'beginning'}, page_content='to ensure that the provider is in-network. This can help you save money and avoid \\nunexpected costs.  \\nThe Northwind Standard plan covers services such as:  \\n- Preventive care services, including physicals, immunizations, and screenings  \\n- Diagnostic tests and treatments  \\n- Medical consultations  \\n- Physical therapy  \\n- Mental health services  \\n- Prescription drugs  \\n- Inpatient hospital services  \\n- Emergency services  \\nNorthwind Standard does not cover certain types of services, including cosmetic services, \\nexperimental treatments, and most dental services. It also does not cover services provided \\nby out-of-network providers.  \\nWhen using your Northwind Standard plan, it is important to understand your coverage and \\nany costs that you may be responsible for. Northwind Health offers a variety of tools and')]}}\n",
      "\n",
      "----------------\n",
      "\n",
      "{'generate': {'answer': 'The Northwind Standard plan covers medical, dental, vision, and prescription drug services, along with preventive care, which includes physicals, vaccinations, and health screenings. However, it does not cover emergency services, mental health and substance abuse services, or out-of-network services. Additionally, it may not cover certain types of cosmetic or experimental treatments.'}}\n",
      "\n",
      "----------------\n",
      "\n"
     ]
    }
   ],
   "source": [
    "question = str(input(\"Enter your question: \"))\n",
    "\n",
    "for step in graph.stream(\n",
    "    {\"question\": question},\n",
    "    stream_mode=\"updates\",\n",
    "):\n",
    "    print(f\"{step}\\n\\n----------------\\n\")"
   ]
  }
 ],
 "metadata": {
  "kernelspec": {
   "display_name": ".venv (3.12.3)",
   "language": "python",
   "name": "python3"
  },
  "language_info": {
   "codemirror_mode": {
    "name": "ipython",
    "version": 3
   },
   "file_extension": ".py",
   "mimetype": "text/x-python",
   "name": "python",
   "nbconvert_exporter": "python",
   "pygments_lexer": "ipython3",
   "version": "3.12.3"
  }
 },
 "nbformat": 4,
 "nbformat_minor": 5
}
