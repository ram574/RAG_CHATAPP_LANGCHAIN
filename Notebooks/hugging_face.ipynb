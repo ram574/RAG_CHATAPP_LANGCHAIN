{
 "cells": [
  {
   "cell_type": "markdown",
   "id": "bbd72f10",
   "metadata": {},
   "source": [
    "#### Load the input pdf files and merge them as one large docuemnt "
   ]
  },
  {
   "cell_type": "code",
   "execution_count": 1,
   "id": "f04b6c7f",
   "metadata": {},
   "outputs": [],
   "source": [
    "from PyPDF2 import PdfMerger\n",
    "import os\n",
    "\n",
    "pdf_folder = \"/home/tulasiram/ubuntu_server/RAG_ChatApp_LangChain/Input_Data/health-plan\"\n",
    "output_pdf_path = \"/home/tulasiram/ubuntu_server/RAG_ChatApp_LangChain/Output_Data/merged_output.pdf\"\n",
    "\n",
    "# Collect all PDF files\n",
    "pdf_files = [os.path.join(pdf_folder, f) for f in os.listdir(pdf_folder) if f.endswith(\".pdf\")]\n",
    "\n",
    "# Merge them\n",
    "merger = PdfMerger()\n",
    "for pdf in pdf_files:\n",
    "    merger.append(pdf)\n",
    "\n",
    "# Save the result\n",
    "merger.write(output_pdf_path)\n",
    "merger.close()"
   ]
  },
  {
   "cell_type": "code",
   "execution_count": 2,
   "id": "b5d3ca06",
   "metadata": {},
   "outputs": [
    {
     "name": "stdout",
     "output_type": "stream",
     "text": [
      "Loaded 263 pages from merged file.\n"
     ]
    }
   ],
   "source": [
    "from langchain_community.document_loaders import PyPDFLoader\n",
    "\n",
    "# Load the single combined PDF\n",
    "loader = PyPDFLoader(output_pdf_path)\n",
    "documents = loader.load()\n",
    "\n",
    "print(f\"Loaded {len(documents)} pages from merged file.\")"
   ]
  },
  {
   "cell_type": "markdown",
   "id": "f656158b",
   "metadata": {},
   "source": [
    "### Total Characters count for the merged file "
   ]
  },
  {
   "cell_type": "code",
   "execution_count": 3,
   "id": "34b42af3",
   "metadata": {},
   "outputs": [
    {
     "name": "stdout",
     "output_type": "stream",
     "text": [
      "Total characters in '/home/tulasiram/ubuntu_server/RAG_ChatApp_LangChain/Output_Data/merged_output.pdf': 589147\n"
     ]
    }
   ],
   "source": [
    "# Extract and join text from all pages\n",
    "full_text = \"\"\n",
    "for page in documents:\n",
    "    full_text += page.page_content or \"\"\n",
    "\n",
    "# Count characters\n",
    "character_count = len(full_text)\n",
    "\n",
    "print(f\"Total characters in '{output_pdf_path}': {character_count}\")\n"
   ]
  },
  {
   "cell_type": "code",
   "execution_count": 4,
   "id": "7eba7da4",
   "metadata": {},
   "outputs": [
    {
     "name": "stdout",
     "output_type": "stream",
     "text": [
      "Total characters: 42\n"
     ]
    }
   ],
   "source": [
    "##assert len(documents) == 1\n",
    "print(f\"Total characters: {len(documents[0].page_content)}\")"
   ]
  },
  {
   "cell_type": "markdown",
   "id": "473e03ca",
   "metadata": {},
   "source": [
    "### Splitting the document into sub documents"
   ]
  },
  {
   "cell_type": "code",
   "execution_count": 5,
   "id": "1dc71366",
   "metadata": {},
   "outputs": [
    {
     "name": "stdout",
     "output_type": "stream",
     "text": [
      "Splitted the merged document into 890 sub-documents.\n"
     ]
    }
   ],
   "source": [
    "from langchain_text_splitters import RecursiveCharacterTextSplitter\n",
    "\n",
    "text_splitter = RecursiveCharacterTextSplitter(\n",
    "    chunk_size= 850, # chunk size (characters)\n",
    "    chunk_overlap=100,  # chunk overlap (characters)\n",
    "    add_start_index=True,  # track index in original document\n",
    ")\n",
    "all_splits = text_splitter.split_documents(documents)\n",
    "\n",
    "print(f\"Splitted the merged document into {len(all_splits)} sub-documents.\")"
   ]
  },
  {
   "cell_type": "markdown",
   "id": "6e25d9df",
   "metadata": {},
   "source": [
    "### Checked with open Source embeddings from huggingface to vectorize and store it locally"
   ]
  },
  {
   "cell_type": "code",
   "execution_count": 6,
   "id": "a6451ae4",
   "metadata": {},
   "outputs": [
    {
     "name": "stderr",
     "output_type": "stream",
     "text": [
      "/tmp/ipykernel_44580/468630919.py:5: LangChainDeprecationWarning: The class `HuggingFaceEmbeddings` was deprecated in LangChain 0.2.2 and will be removed in 1.0. An updated version of the class exists in the :class:`~langchain-huggingface package and should be used instead. To use it run `pip install -U :class:`~langchain-huggingface` and import as `from :class:`~langchain_huggingface import HuggingFaceEmbeddings``.\n",
      "  embedding_model = HuggingFaceEmbeddings(model_name=\"sentence-transformers/all-MiniLM-L6-v2\")\n",
      "/home/tulasiram/ubuntu_server/RAG_ChatApp_LangChain/.venv/lib/python3.12/site-packages/tqdm/auto.py:21: TqdmWarning: IProgress not found. Please update jupyter and ipywidgets. See https://ipywidgets.readthedocs.io/en/stable/user_install.html\n",
      "  from .autonotebook import tqdm as notebook_tqdm\n"
     ]
    }
   ],
   "source": [
    "from langchain.embeddings import HuggingFaceEmbeddings\n",
    "from langchain.vectorstores import FAISS\n",
    "\n",
    "if all_splits:\n",
    "\tembedding_model = HuggingFaceEmbeddings(model_name=\"sentence-transformers/all-MiniLM-L6-v2\")\n",
    "\tvectorstore = FAISS.from_documents(all_splits, embedding_model)\n",
    "\tvectorstore.save_local(\"vector_index\")\n",
    "else:\n",
    "\tprint(\"No chunks found. Please check your document loading and splitting steps.\")\n"
   ]
  },
  {
   "cell_type": "code",
   "execution_count": 7,
   "id": "e357acb8",
   "metadata": {},
   "outputs": [
    {
     "name": "stdout",
     "output_type": "stream",
     "text": [
      "['59e15e0b-5b87-41a9-bb18-afee49033835', '8c2478a5-fce7-4837-9fa7-44c38c0cfce4', '7b32eca9-4538-41a4-a241-f6a8abf5f0fb']\n"
     ]
    }
   ],
   "source": [
    "document_ids = vectorstore.add_documents(documents=all_splits)\n",
    "\n",
    "print(document_ids[:3])"
   ]
  },
  {
   "cell_type": "code",
   "execution_count": 8,
   "id": "9328acf5",
   "metadata": {},
   "outputs": [
    {
     "name": "stdout",
     "output_type": "stream",
     "text": [
      "Entire Contract \n",
      "OTHER INFORMATION ABOUT THIS PLAN: Entire Contract \n",
      "The Northwind Standard plan is a contract between the employee and Northwind Health. \n",
      "By enrolling in the plan, the employee agrees to all of the terms and conditions included in \n",
      "the plan documents. It is important to understand that the plan documents are the ultimate \n",
      "authority for any questions about benefits, coverage, and exclusions. \n",
      "The plan documents state that the Northwind Standard plan provides coverage for medical, \n",
      "vision, and dental services. This coverage includes preventive care services and prescription \n",
      "drug coverage. The plan does not provide coverage for emergency services, mental health \n",
      "and substance abuse coverage, or out-of-network services. \n",
      "The plan documents also include information on how to access care, including a list of in-\n"
     ]
    }
   ],
   "source": [
    "query = \"What are covered services in Northwind Standard plan?\"\n",
    "docs = vectorstore.similarity_search(query)\n",
    "print(docs[0].page_content)"
   ]
  },
  {
   "cell_type": "code",
   "execution_count": 9,
   "id": "e7335222",
   "metadata": {},
   "outputs": [
    {
     "name": "stdout",
     "output_type": "stream",
     "text": [
      "For example, if the allowed amount for a service is $100 and your coinsurance is 20%, you \n",
      "are responsible for paying $20 (20% of $100). The insurance company will pay the \n",
      "remaining amount of $80.\n"
     ]
    }
   ],
   "source": [
    "query = \"What is a coinsurance?\"\n",
    "docs = vectorstore.similarity_search(query)\n",
    "print(docs[0].page_content)"
   ]
  },
  {
   "cell_type": "code",
   "execution_count": 10,
   "id": "07e1bdef",
   "metadata": {},
   "outputs": [
    {
     "name": "stdout",
     "output_type": "stream",
     "text": [
      "The Northwind Health Plus plan is a group health plan that is sponsored by Contoso and \n",
      "administered by Northwind Health. As a participant in this group plan, you will have access \n",
      "to a wide range of health benefits and services.  \n",
      "Your employer, Contoso, pays a portion of the premium for the plan, and you are \n",
      "responsible for paying the remaining portion. This will be deducted directly from your \n",
      "paycheck each month. In addition to the premium, you may be responsible for certain costs \n",
      "when you receive health care services.  \n",
      "Your contributions to the plan are based on the type of coverage you choose. For example, if \n",
      "you choose a single plan, you will pay a lower premium than if you choose a family plan. The \n",
      "premium and other costs you may incur when you receive health care services may change \n",
      "from year to year.\n"
     ]
    }
   ],
   "source": [
    "query = \"What are the different plans in Northwind Health Plus insurance?\"\n",
    "docs = vectorstore.similarity_search(query)\n",
    "print(docs[0].page_content)"
   ]
  },
  {
   "cell_type": "code",
   "execution_count": 11,
   "id": "feec163a",
   "metadata": {},
   "outputs": [
    {
     "name": "stdout",
     "output_type": "stream",
     "text": [
      "Contoso Electronics Role Library \n",
      "Last Updated: 2023-03-05 \n",
      "Chief Executive Officer \n",
      " \n",
      "Job Description: \n",
      " \n",
      "Position: Chief Executive Officer  \n",
      "Company: Contoso Electronics  \n",
      " \n",
      "Objective: \n",
      "The Chief Executive Officer (CEO) will be responsible for providing strategic direction and \n",
      "oversight to Contoso Electronics, to ensure the company’s long-term success and \n",
      "profitability.  \n",
      " \n",
      "Responsibilities: \n",
      "• Develop and implement strategy and objectives to ensure the financial success and long-\n",
      "term growth of the company  \n",
      "• Provide strategic guidance and direction to the executive team and manage the day-to-day \n",
      "operations of the company \n",
      "• Ensure compliance with all laws and regulations \n",
      "• Oversee the development of marketing and advertising strategies  \n",
      "• Develop and manage relationships with key stakeholders\n"
     ]
    }
   ],
   "source": [
    "query = \"what is the objective of Chief Executive Officer at contost electronics?\"\n",
    "docs = vectorstore.similarity_search(query)\n",
    "print(docs[0].page_content)"
   ]
  },
  {
   "cell_type": "code",
   "execution_count": null,
   "id": "54a60388",
   "metadata": {},
   "outputs": [],
   "source": [
    "import getpass\n",
    "import os\n",
    "from langchain_openai import AzureChatOpenAI\n",
    "\n",
    "llm = AzureChatOpenAI(\n",
    "    azure_endpoint=\"***********************************************************************************\",\n",
    "    api_key=\"**********************************\",\n",
    "    deployment_name=\"gpt-4o-mini\",\n",
    "    api_version=\"2025-01-01-preview\",\n",
    ")"
   ]
  },
  {
   "cell_type": "code",
   "execution_count": 13,
   "id": "f40b382d",
   "metadata": {},
   "outputs": [
    {
     "name": "stdout",
     "output_type": "stream",
     "text": [
      "You are an assistant for question-answering tasks. Use the following pieces of retrieved context to answer the question. If you don't know the answer, just say that you don't know. Use three sentences maximum and keep the answer concise.\n",
      "Question: (question goes here) \n",
      "Context: (context goes here) \n",
      "Answer:\n"
     ]
    }
   ],
   "source": [
    "from langchain import hub\n",
    "\n",
    "# N.B. for non-US LangSmith endpoints, you may need to specify\n",
    "# api_url=\"https://api.smith.langchain.com\" in hub.pull.\n",
    "prompt = hub.pull(\"rlm/rag-prompt\")\n",
    "\n",
    "example_messages = prompt.invoke(\n",
    "    {\"context\": \"(context goes here)\", \"question\": \"(question goes here)\"}\n",
    ").to_messages()\n",
    "\n",
    "assert len(example_messages) == 1\n",
    "print(example_messages[0].content)"
   ]
  },
  {
   "cell_type": "code",
   "execution_count": 14,
   "id": "0eda999e",
   "metadata": {},
   "outputs": [],
   "source": [
    "from langchain_core.documents import Document\n",
    "from typing_extensions import List, TypedDict\n",
    "\n",
    "\n",
    "class State(TypedDict):\n",
    "    question: str\n",
    "    context: List[Document]\n",
    "    answer: str"
   ]
  },
  {
   "cell_type": "code",
   "execution_count": 15,
   "id": "5a600dce",
   "metadata": {},
   "outputs": [],
   "source": [
    "def retrieve(state: State):\n",
    "    retrieved_docs = vectorstore.similarity_search(state[\"question\"])\n",
    "    return {\"context\": retrieved_docs}\n",
    "\n",
    "\n",
    "def generate(state: State):\n",
    "    docs_content = \"\\n\\n\".join(doc.page_content for doc in state[\"context\"])\n",
    "    messages = prompt.invoke({\"question\": state[\"question\"], \"context\": docs_content})\n",
    "    response = llm.invoke(messages)\n",
    "    return {\"answer\": response.content}"
   ]
  },
  {
   "cell_type": "code",
   "execution_count": 16,
   "id": "b1d39f4c",
   "metadata": {},
   "outputs": [],
   "source": [
    "from langgraph.graph import START, StateGraph\n",
    "\n",
    "graph_builder = StateGraph(State).add_sequence([retrieve, generate])\n",
    "graph_builder.add_edge(START, \"retrieve\")\n",
    "graph = graph_builder.compile()"
   ]
  },
  {
   "cell_type": "code",
   "execution_count": 17,
   "id": "1525365e",
   "metadata": {},
   "outputs": [
    {
     "data": {
      "image/png": "[encoded data removed]",
      "text/plain": [
       "<IPython.core.display.Image object>"
      ]
     },
     "metadata": {},
     "output_type": "display_data"
    }
   ],
   "source": [
    "from IPython.display import Image, display\n",
    "\n",
    "display(Image(graph.get_graph().draw_mermaid_png()))"
   ]
  },
  {
   "cell_type": "code",
   "execution_count": 18,
   "id": "6e03d989",
   "metadata": {},
   "outputs": [
    {
     "name": "stdout",
     "output_type": "stream",
     "text": [
      "Context: [Document(id='486a2396-88e2-4e29-9908-f03fd9ea5ba0', metadata={'producer': 'PyPDF2', 'creator': 'PyPDF', 'creationdate': '', 'source': '/home/tulasiram/ubuntu_server/RAG_ChatApp_LangChain/Output_Data/merged_output.pdf', 'total_pages': 263, 'page': 2, 'page_label': '3', 'start_index': 0}, page_content='Contoso Electronics Role Library \\nLast Updated: 2023-03-05 \\nChief Executive Officer \\n \\nJob Description: \\n \\nPosition: Chief Executive Officer  \\nCompany: Contoso Electronics  \\n \\nObjective: \\nThe Chief Executive Officer (CEO) will be responsible for providing strategic direction and \\noversight to Contoso Electronics, to ensure the company’s long-term success and \\nprofitability.  \\n \\nResponsibilities: \\n• Develop and implement strategy and objectives to ensure the financial success and long-\\nterm growth of the company  \\n• Provide strategic guidance and direction to the executive team and manage the day-to-day \\noperations of the company \\n• Ensure compliance with all laws and regulations \\n• Oversee the development of marketing and advertising strategies  \\n• Develop and manage relationships with key stakeholders'), Document(id='7b32eca9-4538-41a4-a241-f6a8abf5f0fb', metadata={'producer': 'PyPDF2', 'creator': 'PyPDF', 'creationdate': '', 'source': '/home/tulasiram/ubuntu_server/RAG_ChatApp_LangChain/Output_Data/merged_output.pdf', 'total_pages': 263, 'page': 2, 'page_label': '3', 'start_index': 0}, page_content='Contoso Electronics Role Library \\nLast Updated: 2023-03-05 \\nChief Executive Officer \\n \\nJob Description: \\n \\nPosition: Chief Executive Officer  \\nCompany: Contoso Electronics  \\n \\nObjective: \\nThe Chief Executive Officer (CEO) will be responsible for providing strategic direction and \\noversight to Contoso Electronics, to ensure the company’s long-term success and \\nprofitability.  \\n \\nResponsibilities: \\n• Develop and implement strategy and objectives to ensure the financial success and long-\\nterm growth of the company  \\n• Provide strategic guidance and direction to the executive team and manage the day-to-day \\noperations of the company \\n• Ensure compliance with all laws and regulations \\n• Oversee the development of marketing and advertising strategies  \\n• Develop and manage relationships with key stakeholders'), Document(id='b3359166-c0d3-4149-b513-c6395e25be1f', metadata={'producer': 'PyPDF2', 'creator': 'PyPDF', 'creationdate': '', 'source': '/home/tulasiram/ubuntu_server/RAG_ChatApp_LangChain/Output_Data/merged_output.pdf', 'total_pages': 263, 'page': 3, 'page_label': '4', 'start_index': 0}, page_content='Chief Operating Officer \\n \\nJob Title: Chief Operating Officer \\n \\nCompany: Contoso Electronics \\n \\nLocation: Any major city \\n \\nPosition Summary: \\n \\nThe Chief Operating Officer (COO) at Contoso Electronics will be responsible for overseeing \\nthe day-to-day operations of the entire organization and ensuring that the organization is \\noperating in an efficient and effective manner. The COO will report to the CEO and will \\ncollaborate with the executive team to provide strategic direction and guidance for the \\norganization.  \\n \\nResponsibilities: \\n \\n• Develop, implement, and monitor strategies, policies, and procedures for the \\norganization’s short-term and long-term success  \\n• Oversee daily operations and ensure that all departments are meeting their goals and \\nobjectives  \\n• Create and manage key performance indicators for all departments'), Document(id='18fa0aa9-8af1-42b2-b266-a901e7e91782', metadata={'producer': 'PyPDF2', 'creator': 'PyPDF', 'creationdate': '', 'source': '/home/tulasiram/ubuntu_server/RAG_ChatApp_LangChain/Output_Data/merged_output.pdf', 'total_pages': 263, 'page': 3, 'page_label': '4', 'start_index': 0}, page_content='Chief Operating Officer \\n \\nJob Title: Chief Operating Officer \\n \\nCompany: Contoso Electronics \\n \\nLocation: Any major city \\n \\nPosition Summary: \\n \\nThe Chief Operating Officer (COO) at Contoso Electronics will be responsible for overseeing \\nthe day-to-day operations of the entire organization and ensuring that the organization is \\noperating in an efficient and effective manner. The COO will report to the CEO and will \\ncollaborate with the executive team to provide strategic direction and guidance for the \\norganization.  \\n \\nResponsibilities: \\n \\n• Develop, implement, and monitor strategies, policies, and procedures for the \\norganization’s short-term and long-term success  \\n• Oversee daily operations and ensure that all departments are meeting their goals and \\nobjectives  \\n• Create and manage key performance indicators for all departments')]\n",
      "\n",
      "\n",
      "Answer: The objective of the Chief Executive Officer at Contoso Electronics is to provide strategic direction and oversight to ensure the company's long-term success and profitability. This includes developing and implementing strategies for financial success and growth, as well as managing day-to-day operations. The CEO also plays a key role in ensuring compliance with laws and developing relationships with stakeholders.\n"
     ]
    }
   ],
   "source": [
    "result = graph.invoke({\"question\": \"What is the objective of Chief Executive Officer at Contoso Electronics?\"})\n",
    "\n",
    "print(f\"Context: {result['context']}\\n\\n\")\n",
    "print(f\"Answer: {result['answer']}\")"
   ]
  },
  {
   "cell_type": "code",
   "execution_count": 19,
   "id": "08d0289c",
   "metadata": {},
   "outputs": [],
   "source": [
    "from langchain_core.prompts import PromptTemplate\n",
    "\n",
    "template = \"\"\"Use the following pieces of context to answer the question at the end.\n",
    "If you don't know the answer, just say that you don't know, don't try to make up an answer.\n",
    "Use three sentences maximum and keep the answer as concise as possible.\n",
    "Always say \"thanks for asking!\" at the end of the answer.\n",
    "\n",
    "{context}\n",
    "\n",
    "Question: {question}\n",
    "\n",
    "Helpful Answer:\"\"\"\n",
    "custom_rag_prompt = PromptTemplate.from_template(template)"
   ]
  },
  {
   "cell_type": "code",
   "execution_count": 20,
   "id": "d8c0488e",
   "metadata": {},
   "outputs": [
    {
     "data": {
      "text/plain": [
       "{'producer': 'PyPDF2',\n",
       " 'creator': 'PyPDF',\n",
       " 'creationdate': '',\n",
       " 'source': '/home/tulasiram/ubuntu_server/RAG_ChatApp_LangChain/Output_Data/merged_output.pdf',\n",
       " 'total_pages': 263,\n",
       " 'page': 2,\n",
       " 'page_label': '3',\n",
       " 'start_index': 0,\n",
       " 'section': 'beginning'}"
      ]
     },
     "execution_count": 20,
     "metadata": {},
     "output_type": "execute_result"
    }
   ],
   "source": [
    "total_documents = len(all_splits)\n",
    "third = total_documents // 3\n",
    "\n",
    "for i, document in enumerate(all_splits):\n",
    "    if i < third:\n",
    "        document.metadata[\"section\"] = \"beginning\"\n",
    "    elif i < 2 * third:\n",
    "        document.metadata[\"section\"] = \"middle\"\n",
    "    else:\n",
    "        document.metadata[\"section\"] = \"end\"\n",
    "\n",
    "\n",
    "all_splits[2].metadata"
   ]
  },
  {
   "cell_type": "code",
   "execution_count": 21,
   "id": "8635157c",
   "metadata": {},
   "outputs": [],
   "source": [
    "from langchain_core.vectorstores import InMemoryVectorStore\n",
    "\n",
    "vectorstore = InMemoryVectorStore(embedding_model)\n",
    "_ = vectorstore.add_documents(all_splits)"
   ]
  },
  {
   "cell_type": "code",
   "execution_count": 22,
   "id": "a4e9de0e",
   "metadata": {},
   "outputs": [],
   "source": [
    "from typing import Literal\n",
    "\n",
    "from typing_extensions import Annotated\n",
    "\n",
    "class Search(TypedDict):\n",
    "    \"\"\"Search query.\"\"\"\n",
    "\n",
    "    query: Annotated[str, ..., \"Search query to run.\"]\n",
    "    section: Annotated[\n",
    "        Literal[\"beginning\", \"middle\", \"end\"],\n",
    "        ...,\n",
    "        \"Section to query.\",\n",
    "    ]"
   ]
  },
  {
   "cell_type": "code",
   "execution_count": 23,
   "id": "8e49db01",
   "metadata": {},
   "outputs": [],
   "source": [
    "class State(TypedDict):\n",
    "    question: str\n",
    "    query: Search\n",
    "    context: List[Document]\n",
    "    answer: str\n",
    "\n",
    "\n",
    "def analyze_query(state: State):\n",
    "    structured_llm = llm.with_structured_output(Search)\n",
    "    query = structured_llm.invoke(state[\"question\"])\n",
    "    return {\"query\": query}\n",
    "\n",
    "\n",
    "def retrieve(state: State):\n",
    "    query = state[\"query\"]\n",
    "    retrieved_docs = vectorstore.similarity_search(\n",
    "        query[\"query\"],\n",
    "        filter=lambda doc: doc.metadata.get(\"section\") == query[\"section\"],\n",
    "    )\n",
    "    return {\"context\": retrieved_docs}\n",
    "\n",
    "\n",
    "def generate(state: State):\n",
    "    docs_content = \"\\n\\n\".join(doc.page_content for doc in state[\"context\"])\n",
    "    messages = prompt.invoke({\"question\": state[\"question\"], \"context\": docs_content})\n",
    "    response = llm.invoke(messages)\n",
    "    return {\"answer\": response.content}\n",
    "\n",
    "\n",
    "graph_builder = StateGraph(State).add_sequence([analyze_query, retrieve, generate])\n",
    "graph_builder.add_edge(START, \"analyze_query\")\n",
    "graph = graph_builder.compile()"
   ]
  },
  {
   "cell_type": "code",
   "execution_count": 24,
   "id": "99ae3b9f",
   "metadata": {},
   "outputs": [
    {
     "data": {
      "image/png": "[encoded data removed]",
      "text/plain": [
       "<IPython.core.display.Image object>"
      ]
     },
     "metadata": {},
     "output_type": "display_data"
    }
   ],
   "source": [
    "display(Image(graph.get_graph().draw_mermaid_png()))"
   ]
  },
  {
   "cell_type": "code",
   "execution_count": 25,
   "id": "df7e2fe7",
   "metadata": {},
   "outputs": [
    {
     "name": "stdout",
     "output_type": "stream",
     "text": [
      "{'analyze_query': {'query': {'query': 'objective of Chief Executive Officer at Contoso Electronics', 'section': 'beginning'}}}\n",
      "\n",
      "----------------\n",
      "\n",
      "{'retrieve': {'context': [Document(id='9fdf2d45-dd4e-4109-b6a6-ed555c3ae7bf', metadata={'producer': 'PyPDF2', 'creator': 'PyPDF', 'creationdate': '', 'source': '/home/tulasiram/ubuntu_server/RAG_ChatApp_LangChain/Output_Data/merged_output.pdf', 'total_pages': 263, 'page': 2, 'page_label': '3', 'start_index': 0, 'section': 'beginning'}, page_content='Contoso Electronics Role Library \\nLast Updated: 2023-03-05 \\nChief Executive Officer \\n \\nJob Description: \\n \\nPosition: Chief Executive Officer  \\nCompany: Contoso Electronics  \\n \\nObjective: \\nThe Chief Executive Officer (CEO) will be responsible for providing strategic direction and \\noversight to Contoso Electronics, to ensure the company’s long-term success and \\nprofitability.  \\n \\nResponsibilities: \\n• Develop and implement strategy and objectives to ensure the financial success and long-\\nterm growth of the company  \\n• Provide strategic guidance and direction to the executive team and manage the day-to-day \\noperations of the company \\n• Ensure compliance with all laws and regulations \\n• Oversee the development of marketing and advertising strategies  \\n• Develop and manage relationships with key stakeholders'), Document(id='d38f093a-2fac-4e11-8c35-60528eb91a03', metadata={'producer': 'PyPDF2', 'creator': 'PyPDF', 'creationdate': '', 'source': '/home/tulasiram/ubuntu_server/RAG_ChatApp_LangChain/Output_Data/merged_output.pdf', 'total_pages': 263, 'page': 8, 'page_label': '9', 'start_index': 0, 'section': 'beginning'}, page_content='Job Title: Vice President of Operations, Contoso Electronics  \\n \\nJob Summary: \\nThe Vice President of Operations for Contoso Electronics will be responsible for overseeing \\nthe day-to-day operations of the business and leading the operations team. The VP of \\nOperations will be responsible for developing and executing strategic plans to increase \\nefficiency, reduce costs, and maximize profitability.  \\n \\nResponsibilities: \\n• Lead and manage the operations team to ensure effective delivery of products and \\nservices to customers.  \\n• Develop and implement strategies for improving operational practices and processes.  \\n• Analyze financial data to identify areas of potential cost savings and profitability.  \\n• Oversee the development and implementation of operational plans and budgets.'), Document(id='c902c2ae-3ed0-4485-81bf-dec2d037d555', metadata={'producer': 'PyPDF2', 'creator': 'PyPDF', 'creationdate': '', 'source': '/home/tulasiram/ubuntu_server/RAG_ChatApp_LangChain/Output_Data/merged_output.pdf', 'total_pages': 263, 'page': 5, 'page_label': '6', 'start_index': 0, 'section': 'beginning'}, page_content='• Proficiency in financial modeling and analysis. \\n• Proficiency with financial software and other computer applications. \\nChief Technology Officer \\n \\nJob Title: Chief Technology Officer \\n \\nCompany: Contoso Electronics \\n \\nLocation:  Anywhere \\n \\nJob Overview:  \\n \\nThe Chief Technology Officer of Contoso Electronics will be responsible for leading the \\ncompany’s technology strategy and ensuring the company’s technology remains \\ncompetitive in the marketplace. The CTO will be the driving force behind the development \\nof new products, processes, and standards. They will also be responsible for developing and \\nmaintaining a highly secure IT infrastructure and ensuring the quality and reliability of the \\ncompany’s products and services. \\n \\nResponsibilities: \\n \\n• Lead the development, implementation, and maintenance of the company’s technology'), Document(id='be047a16-5808-49e7-810e-272fc955f7a9', metadata={'producer': 'PyPDF2', 'creator': 'PyPDF', 'creationdate': '', 'source': '/home/tulasiram/ubuntu_server/RAG_ChatApp_LangChain/Output_Data/merged_output.pdf', 'total_pages': 263, 'page': 3, 'page_label': '4', 'start_index': 0, 'section': 'beginning'}, page_content='Chief Operating Officer \\n \\nJob Title: Chief Operating Officer \\n \\nCompany: Contoso Electronics \\n \\nLocation: Any major city \\n \\nPosition Summary: \\n \\nThe Chief Operating Officer (COO) at Contoso Electronics will be responsible for overseeing \\nthe day-to-day operations of the entire organization and ensuring that the organization is \\noperating in an efficient and effective manner. The COO will report to the CEO and will \\ncollaborate with the executive team to provide strategic direction and guidance for the \\norganization.  \\n \\nResponsibilities: \\n \\n• Develop, implement, and monitor strategies, policies, and procedures for the \\norganization’s short-term and long-term success  \\n• Oversee daily operations and ensure that all departments are meeting their goals and \\nobjectives  \\n• Create and manage key performance indicators for all departments')]}}\n",
      "\n",
      "----------------\n",
      "\n",
      "{'generate': {'answer': 'The objective of the Chief Executive Officer at Contoso Electronics is to provide strategic direction and oversight to ensure the company’s long-term success and profitability. This includes developing and implementing strategies for financial success and managing day-to-day operations. Additionally, the CEO is responsible for ensuring compliance with laws and managing relationships with key stakeholders.'}}\n",
      "\n",
      "----------------\n",
      "\n"
     ]
    }
   ],
   "source": [
    "for step in graph.stream(\n",
    "    {\"question\": \"What is the objective of Chief Executive Officer at Contoso Electronics?\"},\n",
    "    stream_mode=\"updates\",\n",
    "):\n",
    "    print(f\"{step}\\n\\n----------------\\n\")"
   ]
  },
  {
   "cell_type": "code",
   "execution_count": 26,
   "id": "aed78be1",
   "metadata": {},
   "outputs": [
    {
     "name": "stdout",
     "output_type": "stream",
     "text": [
      "{'analyze_query': {'query': {'query': 'Northwind Health Plus insurance plans', 'section': 'beginning'}}}\n",
      "\n",
      "----------------\n",
      "\n",
      "{'retrieve': {'context': [Document(id='b7470153-b95c-4b40-91fa-114c8ebbb393', metadata={'producer': 'PyPDF2', 'creator': 'PyPDF', 'creationdate': '', 'source': '/home/tulasiram/ubuntu_server/RAG_ChatApp_LangChain/Output_Data/merged_output.pdf', 'total_pages': 263, 'page': 37, 'page_label': '38', 'start_index': 0, 'section': 'beginning'}, page_content='Summary of Benefits \\nNorthwind Standard \\nNorthwind Standard is a basic plan that provides coverage for medical, vision, and dental \\nservices. This plan also offers coverage for preventive care services, as well as prescription \\ndrug coverage. With Northwind Standard, you can choose from a variety of in-network \\nproviders, including primary care physicians, specialists, hospitals, and pharmacies. This \\nplan does not offer coverage for emergency services, mental health and substance abuse \\ncoverage, or out-of-network services. \\nSUMMARY OF YOUR COSTS \\nSummary of Your Costs \\nWhen you choose Northwind Standard as your health plan, you can rest assured that you \\nare getting comprehensive coverage at an affordable cost. Here, we will explain the various \\ncosts associated with this plan so that you know what to expect when it comes to your out-'), Document(id='a7ce2c4a-459a-4566-8293-4b21223bfec9', metadata={'producer': 'PyPDF2', 'creator': 'PyPDF', 'creationdate': '', 'source': '/home/tulasiram/ubuntu_server/RAG_ChatApp_LangChain/Output_Data/merged_output.pdf', 'total_pages': 263, 'page': 79, 'page_label': '80', 'start_index': 0, 'section': 'beginning'}, page_content='By following these tips, you can make sure that you are taking advantage of all the benefits \\nof the Northwind Standard plan. With the right plan in place, you can be sure that you are \\ngetting the best coverage for your medical, dental, vision, and prescription drug needs. \\nPreventive Care \\nCOVERED SERVICES: Preventive Care \\nAt Northwind Health, preventive care services are covered under the Northwind Standard \\nplan. Preventive care services are a great way to stay on top of your health, and they are \\navailable at no additional cost when you are a part of Northwind Standard.  \\nPreventive care services include the following: \\n• Physicals and vaccinations \\n• Health screenings and tests, such as blood pressure, cholesterol and diabetes tests \\n• Counseling, such as lifestyle and nutrition counseling  \\n• Immunizations'), Document(id='812d1952-9b3b-4dae-8544-a9b9289152c7', metadata={'producer': 'PyPDF2', 'creator': 'PyPDF', 'creationdate': '', 'source': '/home/tulasiram/ubuntu_server/RAG_ChatApp_LangChain/Output_Data/merged_output.pdf', 'total_pages': 263, 'page': 80, 'page_label': '81', 'start_index': 1495, 'section': 'beginning'}, page_content='any costs that you may be responsible for. Northwind Health offers a variety of tools and \\nresources to help you make the most of your coverage, including a cost estimator tool and a \\nprovider directory. Northwind also offers 24/7 customer service to answer any questions \\nyou may have about your coverage.  \\nUsing your Northwind Standard plan can help you get the care you need while saving \\nmoney. It is important to understand your coverage and any out-of-pocket costs that may be'), Document(id='be2ebba1-c4dd-48c3-bc77-e816d223c178', metadata={'producer': 'PyPDF2', 'creator': 'PyPDF', 'creationdate': '', 'source': '/home/tulasiram/ubuntu_server/RAG_ChatApp_LangChain/Output_Data/merged_output.pdf', 'total_pages': 263, 'page': 80, 'page_label': '81', 'start_index': 0, 'section': 'beginning'}, page_content='Remember, preventive care is an important part of your overall health. Northwind Health is \\ndedicated to helping you get the preventive care you need to stay healthy and protect \\nyourself for the future.  \\nProfessional Visits And Services \\nCOVERED SERVICES: Professional Visits and Services \\nNorthwind Standard provides coverage for professional visits and services. This includes \\nvisits to your primary care physician, specialists, and other health care providers. This \\ncoverage is available for services that are medically necessary and are provided by in-\\nnetwork providers.  \\nIn-network providers will generally provide services at a lower cost than out-of-network \\nproviders, so it is important to check with Northwind Health before making an appointment \\nto ensure that the provider is in-network. This can help you save money and avoid')]}}\n",
      "\n",
      "----------------\n",
      "\n",
      "{'generate': {'answer': 'The Northwind Health Plus insurance offers the Northwind Standard plan, which covers medical, vision, dental, and preventive care services, including prescription drugs. However, it does not provide coverage for emergency services, mental health, substance abuse, or out-of-network services. This plan allows choices among various in-network providers and aims to offer comprehensive coverage at affordable costs.'}}\n",
      "\n",
      "----------------\n",
      "\n"
     ]
    }
   ],
   "source": [
    "for step in graph.stream(\n",
    "    {\"question\": \"What are the different plans in Northwind Health Plus insurance?\"},\n",
    "    stream_mode=\"updates\",\n",
    "):\n",
    "    print(f\"{step}\\n\\n----------------\\n\")"
   ]
  },
  {
   "cell_type": "code",
   "execution_count": null,
   "id": "685b1acc",
   "metadata": {},
   "outputs": [
    {
     "name": "stdout",
     "output_type": "stream",
     "text": [
      "{'analyze_query': {'query': {'query': 'Northwind Standard plan covered services', 'section': 'beginning'}}}\n",
      "\n",
      "----------------\n",
      "\n",
      "{'retrieve': {'context': [Document(id='db030c03-bd9b-4174-ba10-e08a52f79ba0', metadata={'producer': 'PyPDF2', 'creator': 'PyPDF', 'creationdate': '', 'source': '/home/tulasiram/ubuntu_server/RAG_ChatApp_LangChain/Output_Data/merged_output.pdf', 'total_pages': 263, 'page': 79, 'page_label': '80', 'start_index': 0, 'section': 'beginning'}, page_content='By following these tips, you can make sure that you are taking advantage of all the benefits \\nof the Northwind Standard plan. With the right plan in place, you can be sure that you are \\ngetting the best coverage for your medical, dental, vision, and prescription drug needs. \\nPreventive Care \\nCOVERED SERVICES: Preventive Care \\nAt Northwind Health, preventive care services are covered under the Northwind Standard \\nplan. Preventive care services are a great way to stay on top of your health, and they are \\navailable at no additional cost when you are a part of Northwind Standard.  \\nPreventive care services include the following: \\n• Physicals and vaccinations \\n• Health screenings and tests, such as blood pressure, cholesterol and diabetes tests \\n• Counseling, such as lifestyle and nutrition counseling  \\n• Immunizations'), Document(id='ffdbfffc-7e9b-4238-a217-b40ddd940c90', metadata={'producer': 'PyPDF2', 'creator': 'PyPDF', 'creationdate': '', 'source': '/home/tulasiram/ubuntu_server/RAG_ChatApp_LangChain/Output_Data/merged_output.pdf', 'total_pages': 263, 'page': 37, 'page_label': '38', 'start_index': 0, 'section': 'beginning'}, page_content='Summary of Benefits \\nNorthwind Standard \\nNorthwind Standard is a basic plan that provides coverage for medical, vision, and dental \\nservices. This plan also offers coverage for preventive care services, as well as prescription \\ndrug coverage. With Northwind Standard, you can choose from a variety of in-network \\nproviders, including primary care physicians, specialists, hospitals, and pharmacies. This \\nplan does not offer coverage for emergency services, mental health and substance abuse \\ncoverage, or out-of-network services. \\nSUMMARY OF YOUR COSTS \\nSummary of Your Costs \\nWhen you choose Northwind Standard as your health plan, you can rest assured that you \\nare getting comprehensive coverage at an affordable cost. Here, we will explain the various \\ncosts associated with this plan so that you know what to expect when it comes to your out-'), Document(id='0c73328a-7b73-4b2d-8871-2dafd2aa3523', metadata={'producer': 'PyPDF2', 'creator': 'PyPDF', 'creationdate': '', 'source': '/home/tulasiram/ubuntu_server/RAG_ChatApp_LangChain/Output_Data/merged_output.pdf', 'total_pages': 263, 'page': 38, 'page_label': '39', 'start_index': 1471, 'section': 'beginning'}, page_content='Northwind Standard offers a wide variety of in-network providers, ranging from primary \\ncare physicians, specialists, hospitals, and pharmacies. This allows you to choose a provider \\nthat is convenient for you and your family, while also helping you to keep your costs low.  \\nWhen you choose a provider that is in-network with your plan, you will typically pay lower \\ncopays and deductibles than you would with an out-of-network provider. In addition, many \\nservices, such as preventive care, may be covered at no cost when you receive care from an \\nin-network provider.  \\nIt is important to note, however, that Northwind Standard does not offer coverage for \\nemergency services, mental health and substance abuse coverage, or out-of-network'), Document(id='81c3ffb5-3c3f-4dd0-9cd6-ae92bac36952', metadata={'producer': 'PyPDF2', 'creator': 'PyPDF', 'creationdate': '', 'source': '/home/tulasiram/ubuntu_server/RAG_ChatApp_LangChain/Output_Data/merged_output.pdf', 'total_pages': 263, 'page': 80, 'page_label': '81', 'start_index': 763, 'section': 'beginning'}, page_content='to ensure that the provider is in-network. This can help you save money and avoid \\nunexpected costs.  \\nThe Northwind Standard plan covers services such as:  \\n- Preventive care services, including physicals, immunizations, and screenings  \\n- Diagnostic tests and treatments  \\n- Medical consultations  \\n- Physical therapy  \\n- Mental health services  \\n- Prescription drugs  \\n- Inpatient hospital services  \\n- Emergency services  \\nNorthwind Standard does not cover certain types of services, including cosmetic services, \\nexperimental treatments, and most dental services. It also does not cover services provided \\nby out-of-network providers.  \\nWhen using your Northwind Standard plan, it is important to understand your coverage and \\nany costs that you may be responsible for. Northwind Health offers a variety of tools and')]}}\n",
      "\n",
      "----------------\n",
      "\n",
      "{'generate': {'answer': 'Covered services in the Northwind Standard plan include preventive care services like physicals, vaccinations, health screenings, and counseling, all available at no additional cost. The plan also covers medical, dental, vision services, diagnostic tests, and prescription drugs. However, it does not cover emergency services, mental health and substance abuse services, or out-of-network care.'}}\n",
      "\n",
      "----------------\n",
      "\n"
     ]
    }
   ],
   "source": [
    "for step in graph.stream(\n",
    "    {\"question\": \"What are covered services in Northwind Standard plan?\"},\n",
    "    stream_mode=\"updates\",\n",
    "):\n",
    "    print(f\"{step}\\n\\n----------------\\n\")"
   ]
  },
  {
   "cell_type": "code",
   "execution_count": null,
   "id": "b85d0a51",
   "metadata": {},
   "outputs": [
    {
     "name": "stdout",
     "output_type": "stream",
     "text": [
      "{'analyze_query': {'query': {'query': 'qualifications for Chief Operating Officer', 'section': 'beginning'}}}\n",
      "\n",
      "----------------\n",
      "\n",
      "{'retrieve': {'context': [Document(id='aabcd706-567e-4bdc-9fb7-7bc2864feab0', metadata={'producer': 'PyPDF2', 'creator': 'PyPDF', 'creationdate': '', 'source': '/home/tulasiram/ubuntu_server/RAG_ChatApp_LangChain/Output_Data/merged_output.pdf', 'total_pages': 263, 'page': 3, 'page_label': '4', 'start_index': 766, 'section': 'beginning'}, page_content='objectives  \\n• Create and manage key performance indicators for all departments  \\n• Analyze existing systems and processes, identify areas of improvement, and implement \\nsolutions  \\n• Develop and nurture relationships with key stakeholders, including customers and \\nvendors  \\n• Act as an advisor to the CEO, board of directors, and executive team  \\n• Prepare and present reports to the board of directors  \\n• Manage the budget and ensure that the organization is operating within its means  \\n• Ensure compliance with all relevant laws and regulations  \\n \\nQualifications: \\n \\n• Bachelor’s degree in business administration, management, or a related field  \\n• Proven experience as a COO or senior operations executive  \\n• Demonstrated ability to develop and implement strategies, policies, and procedures'), Document(id='ba8faf6f-7b48-4f25-9dc1-30209c2fadbe', metadata={'producer': 'PyPDF2', 'creator': 'PyPDF', 'creationdate': '', 'source': '/home/tulasiram/ubuntu_server/RAG_ChatApp_LangChain/Output_Data/merged_output.pdf', 'total_pages': 263, 'page': 3, 'page_label': '4', 'start_index': 0, 'section': 'beginning'}, page_content='Chief Operating Officer \\n \\nJob Title: Chief Operating Officer \\n \\nCompany: Contoso Electronics \\n \\nLocation: Any major city \\n \\nPosition Summary: \\n \\nThe Chief Operating Officer (COO) at Contoso Electronics will be responsible for overseeing \\nthe day-to-day operations of the entire organization and ensuring that the organization is \\noperating in an efficient and effective manner. The COO will report to the CEO and will \\ncollaborate with the executive team to provide strategic direction and guidance for the \\norganization.  \\n \\nResponsibilities: \\n \\n• Develop, implement, and monitor strategies, policies, and procedures for the \\norganization’s short-term and long-term success  \\n• Oversee daily operations and ensure that all departments are meeting their goals and \\nobjectives  \\n• Create and manage key performance indicators for all departments'), Document(id='6e641bc0-6c8d-4463-a2bc-79bc0ea29dc7', metadata={'producer': 'PyPDF2', 'creator': 'PyPDF', 'creationdate': '', 'source': '/home/tulasiram/ubuntu_server/RAG_ChatApp_LangChain/Output_Data/merged_output.pdf', 'total_pages': 263, 'page': 7, 'page_label': '8', 'start_index': 1450, 'section': 'beginning'}, page_content='• Minimum of 10 years of experience in marketing and management roles \\n• Proven success in developing and implementing marketing strategies and campaigns \\n• Strong analytical and problem-solving skills \\n• Excellent project management and organizational skills \\n• Excellent communication and interpersonal skills \\n• Ability to work independently and as part of a team \\n• Knowledge of marketing and advertising best practices \\n• Knowledge of digital marketing trends and technologies \\n• Strong leadership skills \\nVice President of Operations'), Document(id='7e9e8b26-e10a-4a16-857d-35d8bcf208f7', metadata={'producer': 'PyPDF2', 'creator': 'PyPDF', 'creationdate': '', 'source': '/home/tulasiram/ubuntu_server/RAG_ChatApp_LangChain/Output_Data/merged_output.pdf', 'total_pages': 263, 'page': 14, 'page_label': '15', 'start_index': 0, 'section': 'beginning'}, page_content='and industry standards \\n• Liaise with vendors, suppliers, and other external partners to ensure operational \\nobjectives are met \\n• Monitor and evaluate performance of operational staff \\n \\nQualifications: \\n \\n• Bachelor’s degree in Business Administration, Operations Management, or a related field \\n• Minimum of five years’ experience in an operations role \\n• Demonstrated understanding of operational management processes and strategies \\n• Excellent analytical, problem-solving, and organizational skills \\n• Proven ability to manage multiple projects and tasks simultaneously \\n• Highly organized, detail-oriented, and driven to achieve results \\n• Strong interpersonal and communication skills \\n• Proficient in Microsoft Office Suite, financial management software, and other relevant \\nprograms \\nDirector of Human Resources')]}}\n",
      "\n",
      "----------------\n",
      "\n",
      "{'generate': {'answer': \"The qualifications for a Chief Operating Officer include a Bachelor's degree in business administration, management, or a related field. Additionally, candidates should have proven experience as a COO or senior operations executive, demonstrated ability to develop and implement strategies, policies, and procedures, and at least 10 years of experience in relevant roles. Strong analytical, communication, and leadership skills are also essential.\"}}\n",
      "\n",
      "----------------\n",
      "\n"
     ]
    }
   ],
   "source": [
    "for step in graph.stream(\n",
    "    {\"question\": \"What are the qualifications for Chief Operating Officer?\"},\n",
    "    stream_mode=\"updates\",\n",
    "):\n",
    "    print(f\"{step}\\n\\n----------------\\n\")"
   ]
  },
  {
   "cell_type": "code",
   "execution_count": null,
   "id": "3fa5f952",
   "metadata": {},
   "outputs": [
    {
     "name": "stdout",
     "output_type": "stream",
     "text": [
      "{'analyze_query': {'query': {'query': 'job summary for director of sales', 'section': 'beginning'}}}\n",
      "\n",
      "----------------\n",
      "\n",
      "{'retrieve': {'context': [Document(id='b637e383-b97d-4f2b-8da7-d069dd53de24', metadata={'producer': 'PyPDF2', 'creator': 'PyPDF', 'creationdate': '', 'source': '/home/tulasiram/ubuntu_server/RAG_ChatApp_LangChain/Output_Data/merged_output.pdf', 'total_pages': 263, 'page': 11, 'page_label': '12', 'start_index': 1558, 'section': 'beginning'}, page_content='manage products through their lifecycle \\n• Demonstrated ability to collaborate cross-functionally and manage multiple projects \\nsimultaneously \\n• Exceptional attention to detail and problem-solving skills \\n• Excellent communication, interpersonal, and organizational skills \\n• Knowledge of the consumer electronics industry and market trends \\nDirector of Sales \\n \\nPosition: Director of Sales, Contoso Electronics \\n \\nJob Summary:  \\nThe Director of Sales will lead the sales team in achieving strategic and operational'), Document(id='0b57cef2-c745-4b21-bb29-55b7f711a865', metadata={'producer': 'PyPDF2', 'creator': 'PyPDF', 'creationdate': '', 'source': '/home/tulasiram/ubuntu_server/RAG_ChatApp_LangChain/Output_Data/merged_output.pdf', 'total_pages': 263, 'page': 6, 'page_label': '7', 'start_index': 760, 'section': 'beginning'}, page_content='• Lead, manage, and motivate a team of sales professionals to achieve sales and customer \\nsatisfaction goals \\n• Manage the development and implementation of new sales processes, initiatives and \\ncampaigns \\n• Establish and maintain relationships with key customers and business partners \\n• Monitor the performance of the sales team and provide feedback on a regular basis \\n• Identify and develop new sales channels and markets \\n• Analyze market trends, customer feedback and preferences, and other sales data \\n• Develop pricing strategies to maximize profits \\n• Develop and review sales reports, forecasts and budgets \\n \\nQUALIFICATIONS: \\n \\n• Bachelor’s degree in business, marketing, or related field \\n• At least 10 years of sales experience in a management role \\n• Proven track record of achieving sales goals in a highly competitive market'), Document(id='99792b29-bf62-4251-8ca1-f8e7d05abcfa', metadata={'producer': 'PyPDF2', 'creator': 'PyPDF', 'creationdate': '', 'source': '/home/tulasiram/ubuntu_server/RAG_ChatApp_LangChain/Output_Data/merged_output.pdf', 'total_pages': 263, 'page': 24, 'page_label': '25', 'start_index': 0, 'section': 'beginning'}, page_content=\"• Lead, manage, and motivate the sales team to ensure that targets and objectives are met. \\n• Develop and implement successful sales strategies and processes. \\n• Analyze sales and market data in order to identify trends, opportunities, and areas for \\nimprovement. \\n• Develop and maintain relationships with key customers and vendors. \\n• Ensure that all sales activities are conducted in accordance with company policies and \\nprocedures. \\n• Monitor sales team performance and provide regular feedback and coaching. \\n• Develop and manage the sales budget. \\n• Develop and implement sales plans and forecasts. \\n• Monitor competitor activity and adjust sales strategy accordingly. \\n• Ensure that all customer inquiries and complaints are addressed in a timely manner. \\n \\nQualifications: \\n \\n• Bachelor's degree in business, marketing, or a related field.\"), Document(id='fa09c565-048d-488b-ace3-6d8d00a51c8a', metadata={'producer': 'PyPDF2', 'creator': 'PyPDF', 'creationdate': '', 'source': '/home/tulasiram/ubuntu_server/RAG_ChatApp_LangChain/Output_Data/merged_output.pdf', 'total_pages': 263, 'page': 12, 'page_label': '13', 'start_index': 775, 'section': 'beginning'}, page_content='• Lead the development of sales strategies and plans. \\n• Ensure compliance with all applicable laws and regulations. \\n• Other duties as assigned. \\n \\nQualifications: \\n• Bachelor’s degree in business or a related field. \\n• 5+ years of experience in a sales leadership role. \\n• Knowledge of sales and marketing principles and practices. \\n• Proven experience developing and executing sales strategies. \\n• Ability to analyze and interpret data. \\n• Excellent verbal and written communication skills. \\n• Strong organizational and time management skills. \\n• Ability to work in a fast-paced environment and manage multiple tasks. \\n• Proficiency in MS Office Suite. \\nDirector of Marketing \\n \\nPosition Title: Director of Marketing for Contoso Electronics \\n \\nPosition Summary: \\nThe Director of Marketing for Contoso Electronics is responsible for developing,')]}}\n",
      "\n",
      "----------------\n",
      "\n",
      "{'generate': {'answer': \"The Director of Sales at Contoso Electronics will lead and motivate the sales team to meet strategic and operational goals. Responsibilities include developing and implementing sales strategies, managing customer relationships, analyzing market trends, and monitoring team performance. The role requires a strong background in sales management, excellent communication skills, and a bachelor's degree in business or marketing.\"}}\n",
      "\n",
      "----------------\n",
      "\n"
     ]
    }
   ],
   "source": [
    "for step in graph.stream(\n",
    "    {\"question\": \"Could you please give me the job summary for director of sales\"},\n",
    "    stream_mode=\"updates\",\n",
    "):\n",
    "    print(f\"{step}\\n\\n----------------\\n\")"
   ]
  },
  {
   "cell_type": "code",
   "execution_count": 31,
   "id": "cf316f8e",
   "metadata": {},
   "outputs": [
    {
     "name": "stdout",
     "output_type": "stream",
     "text": [
      "{'analyze_query': {'query': {'query': 'Northwind Standard vs Northwind Plus plans comparison', 'section': 'beginning'}}}\n",
      "\n",
      "----------------\n",
      "\n",
      "{'retrieve': {'context': [Document(id='b7470153-b95c-4b40-91fa-114c8ebbb393', metadata={'producer': 'PyPDF2', 'creator': 'PyPDF', 'creationdate': '', 'source': '/home/tulasiram/ubuntu_server/RAG_ChatApp_LangChain/Output_Data/merged_output.pdf', 'total_pages': 263, 'page': 37, 'page_label': '38', 'start_index': 0, 'section': 'beginning'}, page_content='Summary of Benefits \\nNorthwind Standard \\nNorthwind Standard is a basic plan that provides coverage for medical, vision, and dental \\nservices. This plan also offers coverage for preventive care services, as well as prescription \\ndrug coverage. With Northwind Standard, you can choose from a variety of in-network \\nproviders, including primary care physicians, specialists, hospitals, and pharmacies. This \\nplan does not offer coverage for emergency services, mental health and substance abuse \\ncoverage, or out-of-network services. \\nSUMMARY OF YOUR COSTS \\nSummary of Your Costs \\nWhen you choose Northwind Standard as your health plan, you can rest assured that you \\nare getting comprehensive coverage at an affordable cost. Here, we will explain the various \\ncosts associated with this plan so that you know what to expect when it comes to your out-'), Document(id='603878aa-e0d1-4179-a50a-ff832a453435', metadata={'producer': 'PyPDF2', 'creator': 'PyPDF', 'creationdate': '', 'source': '/home/tulasiram/ubuntu_server/RAG_ChatApp_LangChain/Output_Data/merged_output.pdf', 'total_pages': 263, 'page': 80, 'page_label': '81', 'start_index': 763, 'section': 'beginning'}, page_content='to ensure that the provider is in-network. This can help you save money and avoid \\nunexpected costs.  \\nThe Northwind Standard plan covers services such as:  \\n- Preventive care services, including physicals, immunizations, and screenings  \\n- Diagnostic tests and treatments  \\n- Medical consultations  \\n- Physical therapy  \\n- Mental health services  \\n- Prescription drugs  \\n- Inpatient hospital services  \\n- Emergency services  \\nNorthwind Standard does not cover certain types of services, including cosmetic services, \\nexperimental treatments, and most dental services. It also does not cover services provided \\nby out-of-network providers.  \\nWhen using your Northwind Standard plan, it is important to understand your coverage and \\nany costs that you may be responsible for. Northwind Health offers a variety of tools and'), Document(id='29b8db8e-f11b-43c8-abf7-bb8d5046a6d4', metadata={'producer': 'PyPDF2', 'creator': 'PyPDF', 'creationdate': '', 'source': '/home/tulasiram/ubuntu_server/RAG_ChatApp_LangChain/Output_Data/merged_output.pdf', 'total_pages': 263, 'page': 51, 'page_label': '52', 'start_index': 1470, 'section': 'beginning'}, page_content='Tips  \\nTo ensure that employees are taking full advantage of their Northwind Standard plan, there \\nare a few tips that they should keep in mind.  \\n• Make sure to understand the details of the plan and the associated out-of-pocket costs \\nbefore receiving a service.  \\n• Select in-network providers to maximize coverage and avoid unexpected costs.  \\n• Submit claims as soon as possible after a service is rendered.  \\n• Track claims and follow up with Northwind Health if a claim is not processed in a timely \\nmanner.  \\n• Take advantage of preventive services to stay healthy and reduce future costs.  \\n• Ask questions and contact Northwind Health if you need assistance understanding your \\ncoverage or filing a claim.  \\nBy understanding the details of the Northwind Standard plan and following the tips above,'), Document(id='5b5d8535-a9fb-4693-9fca-9a8ce0519c3f', metadata={'producer': 'PyPDF2', 'creator': 'PyPDF', 'creationdate': '', 'source': '/home/tulasiram/ubuntu_server/RAG_ChatApp_LangChain/Output_Data/merged_output.pdf', 'total_pages': 263, 'page': 54, 'page_label': '55', 'start_index': 2215, 'section': 'beginning'}, page_content='for your transportation.  \\nWith the Northwind Standard plan, you can rest assured that you will be covered in the \\nevent of an emergency. In the event of an emergency, you can be transported by ambulance')]}}\n",
      "\n",
      "----------------\n",
      "\n",
      "{'generate': {'answer': 'The Northwind Standard plan offers basic coverage including medical, vision, and dental services, and covers preventive care and prescription drugs, but excludes emergency services and out-of-network options. In contrast, the Northwind Plus plan typically provides more extensive coverage, likely including emergency services and mental health support. However, specific details about the Northwind Plus plan are not included in the provided context.'}}\n",
      "\n",
      "----------------\n",
      "\n"
     ]
    }
   ],
   "source": [
    "for step in graph.stream(\n",
    "    {\"question\": \"compare the northwind standard and northwind plus plans\"},\n",
    "    stream_mode=\"updates\",\n",
    "):\n",
    "    print(f\"{step}\\n\\n----------------\\n\")"
   ]
  },
  {
   "cell_type": "code",
   "execution_count": 29,
   "id": "53ba6422",
   "metadata": {},
   "outputs": [
    {
     "name": "stdout",
     "output_type": "stream",
     "text": [
      "{'analyze_query': {'query': {'query': 'mission of Contoso Electronics', 'section': 'beginning'}}}\n",
      "\n",
      "----------------\n",
      "\n",
      "{'retrieve': {'context': [Document(id='56439bc6-1e49-4e5a-8312-f5f0a699a24a', metadata={'producer': 'PyPDF2', 'creator': 'PyPDF', 'creationdate': '', 'source': '/home/tulasiram/ubuntu_server/RAG_ChatApp_LangChain/Output_Data/merged_output.pdf', 'total_pages': 263, 'page': 0, 'page_label': '1', 'start_index': 0, 'section': 'beginning'}, page_content='Roles Descriptions at \\nContoso Electronics'), Document(id='134ce297-272c-4d27-bc10-9fb59679a5b4', metadata={'producer': 'PyPDF2', 'creator': 'PyPDF', 'creationdate': '', 'source': '/home/tulasiram/ubuntu_server/RAG_ChatApp_LangChain/Output_Data/merged_output.pdf', 'total_pages': 263, 'page': 12, 'page_label': '13', 'start_index': 1541, 'section': 'beginning'}, page_content='The Director of Marketing for Contoso Electronics is responsible for developing, \\nimplementing, and executing strategies to increase brand awareness and customer \\nengagement for Contoso Electronics. This position requires a creative, analytical, and \\nresults-driven individual who is up-to-date on the latest marketing trends and technology. \\n \\nResponsibilities: \\n• Develop and implement marketing strategies to drive sales and customer engagement \\n• Manage a team of marketing professionals and ensure that tasks are completed on time'), Document(id='d38f093a-2fac-4e11-8c35-60528eb91a03', metadata={'producer': 'PyPDF2', 'creator': 'PyPDF', 'creationdate': '', 'source': '/home/tulasiram/ubuntu_server/RAG_ChatApp_LangChain/Output_Data/merged_output.pdf', 'total_pages': 263, 'page': 8, 'page_label': '9', 'start_index': 0, 'section': 'beginning'}, page_content='Job Title: Vice President of Operations, Contoso Electronics  \\n \\nJob Summary: \\nThe Vice President of Operations for Contoso Electronics will be responsible for overseeing \\nthe day-to-day operations of the business and leading the operations team. The VP of \\nOperations will be responsible for developing and executing strategic plans to increase \\nefficiency, reduce costs, and maximize profitability.  \\n \\nResponsibilities: \\n• Lead and manage the operations team to ensure effective delivery of products and \\nservices to customers.  \\n• Develop and implement strategies for improving operational practices and processes.  \\n• Analyze financial data to identify areas of potential cost savings and profitability.  \\n• Oversee the development and implementation of operational plans and budgets.'), Document(id='3a4c553e-04a1-4c0b-bdf2-77a878af2981', metadata={'producer': 'PyPDF2', 'creator': 'PyPDF', 'creationdate': '', 'source': '/home/tulasiram/ubuntu_server/RAG_ChatApp_LangChain/Output_Data/merged_output.pdf', 'total_pages': 263, 'page': 19, 'page_label': '20', 'start_index': 695, 'section': 'beginning'}, page_content='all aspects of the company’s operations, including supply chain, production, customer \\nservice, logistics, and finance. This role will ensure that operations run efficiently and \\neffectively, meeting or exceeding performance goals and customer satisfaction standards. \\n \\nPrimary Responsibilities: \\n \\n• Lead and manage the daily operations of Contoso Electronics, ensuring all operations run \\nefficiently and effectively. \\n• Oversee all aspects of the company’s operations, including supply chain, production, \\ncustomer service, logistics, and finance. \\n• Develop, implement, and monitor operational plans, budgets, and performance goals. \\n• Identify and address process issues, assessing and refining procedures as needed. \\n• Monitor customer satisfaction and implement changes to improve quality and service.')]}}\n",
      "\n",
      "----------------\n",
      "\n",
      "{'generate': {'answer': 'The mission of Contoso Electronics is to ensure efficient and effective operations across all aspects of the company, including supply chain, production, customer service, logistics, and finance. They focus on developing and executing strategies to increase efficiency, reduce costs, and maximize profitability while enhancing customer satisfaction. Ultimately, they aim to deliver high-quality products and services that meet or exceed performance goals.'}}\n",
      "\n",
      "----------------\n",
      "\n"
     ]
    }
   ],
   "source": [
    "for step in graph.stream(\n",
    "    {\"question\": \"What is the mission of Contoso Electronics?\"},\n",
    "    stream_mode=\"updates\",\n",
    "):\n",
    "    print(f\"{step}\\n\\n----------------\\n\")"
   ]
  },
  {
   "cell_type": "code",
   "execution_count": null,
   "id": "705d0bc8",
   "metadata": {},
   "outputs": [
    {
     "name": "stdout",
     "output_type": "stream",
     "text": [
      "{'analyze_query': {'query': {'query': 'What are the missions of the company?', 'section': 'beginning'}}}\n",
      "\n",
      "----------------\n",
      "\n",
      "{'retrieve': {'context': [Document(id='812dcbfc-3672-41d9-a560-4ee5c744e109', metadata={'producer': 'PyPDF2', 'creator': 'PyPDF', 'creationdate': '', 'source': '/home/tulasiram/ubuntu_server/RAG_ChatApp_LangChain/Output_Data/merged_output.pdf', 'total_pages': 263, 'page': 13, 'page_label': '14', 'start_index': 1451, 'section': 'beginning'}, page_content='product delivery. \\n \\nResponsibilities: \\n \\n• Develop and implement strategies to improve operational efficiency and productivity \\n• Analyze and track performance metrics to improve operational processes \\n• Lead the team in developing and implementing processes to maintain operational \\nexcellence \\n• Establish customer service standards and ensure adherence \\n• Develop and implement strategies to manage inventory and stock levels \\n• Manage the budget and financial operations of the company \\n• Oversee the recruitment, training, and development of operational staff \\n• Develop and implement policies and procedures to ensure compliance with regulations'), Document(id='b1dfe465-3f0c-4fc6-aed4-8d0121b8247d', metadata={'producer': 'PyPDF2', 'creator': 'PyPDF', 'creationdate': '', 'source': '/home/tulasiram/ubuntu_server/RAG_ChatApp_LangChain/Output_Data/merged_output.pdf', 'total_pages': 263, 'page': 15, 'page_label': '16', 'start_index': 1520, 'section': 'beginning'}, page_content='• Identify and develop new initiatives to drive innovation, production, and operational \\nexcellence \\n• Develop and implement strategies for rapid and cost effective product and service \\ndevelopment \\n• Lead a team of professionals in research, development and deployment of both existing \\nand new products and services \\n• Manage external relationships with suppliers, vendors, and partners \\n• Stay abreast of industry trends and best practices in product and service development \\n• Monitor product and service performance and suggest/implement improvements \\n• Manage the budget and ensure cost efficiency'), Document(id='b5df8caa-70a7-4b0c-8d2a-7f24c0fa0bed', metadata={'producer': 'PyPDF2', 'creator': 'PyPDF', 'creationdate': '', 'source': '/home/tulasiram/ubuntu_server/RAG_ChatApp_LangChain/Output_Data/merged_output.pdf', 'total_pages': 263, 'page': 19, 'page_label': '20', 'start_index': 695, 'section': 'beginning'}, page_content='all aspects of the company’s operations, including supply chain, production, customer \\nservice, logistics, and finance. This role will ensure that operations run efficiently and \\neffectively, meeting or exceeding performance goals and customer satisfaction standards. \\n \\nPrimary Responsibilities: \\n \\n• Lead and manage the daily operations of Contoso Electronics, ensuring all operations run \\nefficiently and effectively. \\n• Oversee all aspects of the company’s operations, including supply chain, production, \\ncustomer service, logistics, and finance. \\n• Develop, implement, and monitor operational plans, budgets, and performance goals. \\n• Identify and address process issues, assessing and refining procedures as needed. \\n• Monitor customer satisfaction and implement changes to improve quality and service.'), Document(id='43038ed5-7da7-464b-a369-b5416975dd5d', metadata={'producer': 'PyPDF2', 'creator': 'PyPDF', 'creationdate': '', 'source': '/home/tulasiram/ubuntu_server/RAG_ChatApp_LangChain/Output_Data/merged_output.pdf', 'total_pages': 263, 'page': 21, 'page_label': '22', 'start_index': 1438, 'section': 'beginning'}, page_content='line with company goals \\n- Research and develop new technologies to stay ahead of the competition \\n- Monitor the performance of the research and development team to ensure that projects \\nare completed on time and within budget \\n- Develop and maintain relationships with industry partners and vendors \\n \\nQualifications: \\n- Bachelor’s degree in a related field such as engineering, computer science, or business \\n- 5+ years of experience in a research and development role \\n- Demonstrated ability to lead and motivate a team \\n- Excellent organizational skills and attention to detail \\n- Ability to analyze data and make decisions quickly \\n- Proven track record of successful product development \\n- Excellent communication and interpersonal skills \\n- Ability to think strategically and innovate new products and technologies')]}}\n",
      "\n",
      "----------------\n",
      "\n",
      "{'generate': {'answer': \"The company's missions include improving operational efficiency and productivity, implementing customer service standards, and enhancing product and service development. They focus on managing all aspects of operations, including supply chain, production, and finance, to ensure customer satisfaction and performance goals are met. Additionally, the company aims to drive innovation, monitor industry trends, and maintain compliance with regulations.\"}}\n",
      "\n",
      "----------------\n",
      "\n"
     ]
    }
   ],
   "source": [
    "for step in graph.stream(\n",
    "    {\"question\": \"What are the missions of the company?\"},\n",
    "    stream_mode=\"updates\",\n",
    "):\n",
    "    print(f\"{step}\\n\\n----------------\\n\")"
   ]
  }
 ],
 "metadata": {
  "kernelspec": {
   "display_name": ".venv (3.12.3)",
   "language": "python",
   "name": "python3"
  },
  "language_info": {
   "codemirror_mode": {
    "name": "ipython",
    "version": 3
   },
   "file_extension": ".py",
   "mimetype": "text/x-python",
   "name": "python",
   "nbconvert_exporter": "python",
   "pygments_lexer": "ipython3",
   "version": "3.12.3"
  }
 },
 "nbformat": 4,
 "nbformat_minor": 5
}
